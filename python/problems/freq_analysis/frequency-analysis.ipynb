{
 "cells": [
  {
   "cell_type": "code",
   "execution_count": 16,
   "id": "388a80e6",
   "metadata": {},
   "outputs": [],
   "source": [
    "import random"
   ]
  },
  {
   "cell_type": "code",
   "execution_count": 19,
   "id": "2eb7095a",
   "metadata": {},
   "outputs": [],
   "source": [
    "def print_frequencies(freqs):\n",
    "    sorted_freqs = sorted(list(freqs.items()), key=lambda x: x[1], reverse=True)\n",
    "\n",
    "    for pair in sorted_freqs:\n",
    "        print(f\"{pair[0]}: {pair[1] * 100:.2f}%\")"
   ]
  },
  {
   "cell_type": "code",
   "execution_count": 28,
   "id": "542d5278",
   "metadata": {},
   "outputs": [],
   "source": [
    "def files_as_text(files):\n",
    "    text = []\n",
    "    for filename in files:\n",
    "        with open(filename, 'r') as file:\n",
    "            for line in file.readlines():\n",
    "                text.append(line.strip().lower())\n",
    "    return ''.join(text)    "
   ]
  },
  {
   "cell_type": "code",
   "execution_count": 30,
   "id": "808ae2ca",
   "metadata": {},
   "outputs": [],
   "source": [
    "# %ls\n",
    "books = [\n",
    "    'book_1_the philosophers_stone.txt',\n",
    "    'book_2_the_chamber_secrets.txt',\n",
    "    'book_3_the_prisoner_of_azkaban.txt',\n",
    "    'book_4_the_goblet_of_fire.txt',\n",
    "    'book_5_the_order_of_the_phoenix.txt',\n",
    "    'book_6_the_half_blood_prince.txt',\n",
    "]\n",
    "all_books = files_as_text(books)\n",
    "encoded = files_as_text(['encrypted.txt'])"
   ]
  },
  {
   "cell_type": "code",
   "execution_count": null,
   "id": "4733d4a9",
   "metadata": {},
   "outputs": [],
   "source": [
    "# get abc\n",
    "# shuffle\n",
    "# get keys\n",
    "# encrypt/decrypt\n",
    "# "
   ]
  },
  {
   "cell_type": "code",
   "execution_count": 36,
   "id": "a07f3c2b",
   "metadata": {},
   "outputs": [],
   "source": [
    "def abc():\n",
    "    n = 26\n",
    "    result = []\n",
    "    for i in range(n):\n",
    "        symbol = chr(ord('a') + i)\n",
    "        result.append(symbol)\n",
    "    return result"
   ]
  },
  {
   "cell_type": "code",
   "execution_count": 40,
   "id": "2862cbb7",
   "metadata": {},
   "outputs": [],
   "source": [
    "def shuffle(coll):\n",
    "    for i in range(len(coll)):\n",
    "        j = random.randint(0, len(coll) - 1)\n",
    "        t = coll[i]\n",
    "        coll[i] = coll[j]\n",
    "        coll[j] = t\n",
    "    return coll    "
   ]
  },
  {
   "cell_type": "code",
   "execution_count": 61,
   "id": "e805b32b",
   "metadata": {},
   "outputs": [],
   "source": [
    "def get_keys():\n",
    "    fwd_key = {}\n",
    "    rev_key = {}\n",
    "    \n",
    "    shuffled = shuffle(abc())\n",
    "    keys = abc()\n",
    "    \n",
    "    for i in range(len(keys)):\n",
    "        fwd_key[keys[i]] = shuffled[i]\n",
    "        rev_key[shuffled[i]] = keys[i]\n",
    "    return fwd_key, rev_key"
   ]
  },
  {
   "cell_type": "code",
   "execution_count": 70,
   "id": "1f3d1e9f",
   "metadata": {},
   "outputs": [
    {
     "name": "stdout",
     "output_type": "stream",
     "text": [
      "dlwwj xjewu\n"
     ]
    },
    {
     "data": {
      "text/plain": [
       "'hello world'"
      ]
     },
     "execution_count": 70,
     "metadata": {},
     "output_type": "execute_result"
    }
   ],
   "source": [
    "def encode(message, key):\n",
    "    result = []\n",
    "    for c in message:\n",
    "        if 'a' <= c <= 'z':\n",
    "            result.append(key[c])\n",
    "        else:\n",
    "            result.append(c)\n",
    "    return ''.join(result)\n",
    "\n",
    "c_k, d_k = get_keys()\n",
    "\n",
    "ciphered = encode(\"hello world\", c_k)\n",
    "print(ciphered)\n",
    "encode(ciphered, d_k)"
   ]
  },
  {
   "cell_type": "code",
   "execution_count": 81,
   "id": "853c56e3",
   "metadata": {},
   "outputs": [
    {
     "name": "stdout",
     "output_type": "stream",
     "text": [
      "j: 12.28%\n",
      "i: 8.58%\n",
      "c: 8.06%\n",
      "r: 7.60%\n",
      "s: 6.94%\n",
      "n: 6.62%\n",
      "l: 6.39%\n",
      "x: 6.29%\n",
      "q: 5.72%\n",
      "o: 5.15%\n",
      "g: 4.42%\n",
      "t: 2.73%\n",
      "b: 2.57%\n",
      "h: 2.49%\n",
      "p: 2.28%\n",
      "a: 2.25%\n",
      "y: 2.02%\n",
      "w: 1.82%\n",
      "v: 1.74%\n",
      "u: 1.50%\n",
      "m: 1.20%\n",
      "k: 0.85%\n",
      "d: 0.19%\n",
      "z: 0.14%\n",
      "e: 0.10%\n",
      "f: 0.06%\n",
      "----\n",
      "e: 11.80%\n",
      "t: 8.36%\n",
      "a: 8.01%\n",
      "o: 7.79%\n",
      "r: 6.74%\n",
      "h: 6.57%\n",
      "n: 6.51%\n",
      "i: 6.47%\n",
      "s: 5.86%\n",
      "d: 4.89%\n",
      "l: 4.20%\n",
      "u: 2.81%\n",
      "g: 2.71%\n",
      "y: 2.48%\n",
      "w: 2.42%\n",
      "m: 2.30%\n",
      "c: 2.05%\n",
      "f: 2.02%\n",
      "p: 1.88%\n",
      "b: 1.55%\n",
      "k: 1.21%\n",
      "v: 0.82%\n",
      "j: 0.21%\n",
      "x: 0.15%\n",
      "z: 0.10%\n",
      "q: 0.09%\n"
     ]
    }
   ],
   "source": [
    "def get_frequencies(text):\n",
    "    f = {}\n",
    "    for c in text:\n",
    "        if 'a' <= c <= 'z':\n",
    "            if c not in f:\n",
    "                f[c] = 0\n",
    "            f[c] += 1\n",
    "    \n",
    "    total = sum(f.values())\n",
    "    \n",
    "    for key in f.keys():\n",
    "        f[key] /= total\n",
    "    \n",
    "    return f\n",
    "\n",
    "print_frequencies(get_frequencies(encoded))\n",
    "print(\"----\")\n",
    "print_frequencies(get_frequencies(all_books))"
   ]
  },
  {
   "cell_type": "code",
   "execution_count": null,
   "id": "13ccb199",
   "metadata": {},
   "outputs": [],
   "source": []
  }
 ],
 "metadata": {
  "kernelspec": {
   "display_name": "Python 3 (ipykernel)",
   "language": "python",
   "name": "python3"
  },
  "language_info": {
   "codemirror_mode": {
    "name": "ipython",
    "version": 3
   },
   "file_extension": ".py",
   "mimetype": "text/x-python",
   "name": "python",
   "nbconvert_exporter": "python",
   "pygments_lexer": "ipython3",
   "version": "3.9.7"
  }
 },
 "nbformat": 4,
 "nbformat_minor": 5
}
