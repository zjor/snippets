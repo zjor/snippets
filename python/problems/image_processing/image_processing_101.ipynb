{
 "cells": [
  {
   "cell_type": "code",
   "execution_count": null,
   "id": "74c9ec83",
   "metadata": {},
   "outputs": [],
   "source": [
    "## Сумма соседей: https://stepik.org/lesson/3369/step/10?unit=952"
   ]
  },
  {
   "cell_type": "code",
   "execution_count": null,
   "id": "91defd23",
   "metadata": {},
   "outputs": [],
   "source": [
    "import numpy as np\n",
    "import matplotlib.pyplot as plt\n",
    "import matplotlib.image as mpimg"
   ]
  },
  {
   "cell_type": "code",
   "execution_count": null,
   "id": "a144abdc",
   "metadata": {},
   "outputs": [],
   "source": [
    "# Что такоей картинка?\n",
    "img = [\n",
    "    [0, 0, 1, 0, 0],\n",
    "    [0, 0, 1, 0, 0],\n",
    "    [1, 1, 1, 1, 1],\n",
    "    [0, 0, 1, 0, 0],\n",
    "    [0, 0, 1, 0, 0],\n",
    "]\n",
    "\n",
    "plt.imshow(img)"
   ]
  },
  {
   "cell_type": "code",
   "execution_count": null,
   "id": "0c35c125",
   "metadata": {},
   "outputs": [],
   "source": [
    "# source: http://www.lenna.org/\n",
    "img = mpimg.imread('./lena_color.gif')\n",
    "plt.imshow(img)"
   ]
  },
  {
   "cell_type": "code",
   "execution_count": null,
   "id": "26320fec",
   "metadata": {},
   "outputs": [],
   "source": [
    "print(img)"
   ]
  },
  {
   "cell_type": "code",
   "execution_count": null,
   "id": "e225c8b9",
   "metadata": {},
   "outputs": [],
   "source": [
    "def get_channel(img, channel=0):\n",
    "    width, height, _ = img.shape\n",
    "    data = []\n",
    "    for row in range(height):\n",
    "        data.append([])\n",
    "        for col in range(width):\n",
    "            data[-1].append(int(img[row][col][channel]))\n",
    "    return data"
   ]
  },
  {
   "cell_type": "code",
   "execution_count": null,
   "id": "0427a730",
   "metadata": {},
   "outputs": [],
   "source": [
    "plt.imshow(get_channel(img, 1))"
   ]
  },
  {
   "cell_type": "code",
   "execution_count": null,
   "id": "495f4fbe",
   "metadata": {},
   "outputs": [],
   "source": [
    "\"\"\"\n",
    "Эквивалентно оператору\n",
    "1/5 * [[0, 1, 0], [1, 1, 1], [0, 1, 0]]\n",
    "\"\"\"\n",
    "c = get_channel(img, 1)\n",
    "\n",
    "for i in range(10):\n",
    "    result = []\n",
    "    for row in range(1, len(c) - 1):\n",
    "        result.append([])\n",
    "        for col in range(1, len(c[0]) - 1):\n",
    "            s = c[row - 1][col] + c[row + 1][col] + c[row][col - 1] + c[row][col + 1] + c[row][col]\n",
    "            result[-1].append(s // 5)\n",
    "\n",
    "    c = result        \n",
    "\n",
    "plt.imshow(result)"
   ]
  },
  {
   "cell_type": "code",
   "execution_count": null,
   "id": "06a4670b",
   "metadata": {},
   "outputs": [],
   "source": [
    "def apply_kernel(image, kernel):\n",
    "    margin = len(kernel) // 2\n",
    "    result = []\n",
    "    for row in range(margin, len(c) - margin):\n",
    "        result.append([])\n",
    "        for col in range(margin, len(c[0]) - margin):\n",
    "            s = 0\n",
    "            for i in range(len(kernel)):\n",
    "                for j in range(len(kernel[0])):\n",
    "                    s += image[row + i - margin][col + j - margin] * kernel[i][j]\n",
    "            result[-1].append(s)\n",
    "    return result"
   ]
  },
  {
   "cell_type": "code",
   "execution_count": null,
   "id": "8b4f92dd",
   "metadata": {},
   "outputs": [],
   "source": [
    "blur3x3 = np.ones((3, 3)) / 9\n",
    "_t = apply_kernel(get_channel(img, 1), blur3x3)\n",
    "plt.imshow(_t)"
   ]
  },
  {
   "cell_type": "code",
   "execution_count": null,
   "id": "d4265713",
   "metadata": {},
   "outputs": [],
   "source": [
    "ridge_detection = [[-1, -1, -1], [-1, 4, -1], [-1, -1, -1]]\n",
    "_t = apply_kernel(get_channel(img, 1), ridge_detection)\n",
    "plt.imshow(_t)"
   ]
  },
  {
   "cell_type": "code",
   "execution_count": null,
   "id": "3ee6a00c",
   "metadata": {},
   "outputs": [],
   "source": [
    "vertical_edge_detection = [[1, 0, -1], [2, 0, -2], [1, 0, -1]]\n",
    "_t = apply_kernel(get_channel(img, 1), vertical_edge_detection)\n",
    "plt.imshow(_t)"
   ]
  },
  {
   "cell_type": "code",
   "execution_count": null,
   "id": "5d0b8273",
   "metadata": {},
   "outputs": [],
   "source": [
    "horizonal_edge_detection = [[1, 2, 1], [0, 0, 0], [-1, -2, -1]]\n",
    "_t = apply_kernel(get_channel(img, 1), horizonal_edge_detection)\n",
    "plt.imshow(_t)"
   ]
  },
  {
   "cell_type": "code",
   "execution_count": null,
   "id": "48dfbaea",
   "metadata": {},
   "outputs": [],
   "source": [
    "# Additional reading:\n",
    "# - https://en.wikipedia.org/wiki/Kernel_(image_processing)\n",
    "# - https://en.wikipedia.org/wiki/Sobel_operator"
   ]
  },
  {
   "cell_type": "code",
   "execution_count": null,
   "id": "cec3a2e4",
   "metadata": {},
   "outputs": [],
   "source": []
  }
 ],
 "metadata": {
  "kernelspec": {
   "display_name": "Python 3 (ipykernel)",
   "language": "python",
   "name": "python3"
  },
  "language_info": {
   "codemirror_mode": {
    "name": "ipython",
    "version": 3
   },
   "file_extension": ".py",
   "mimetype": "text/x-python",
   "name": "python",
   "nbconvert_exporter": "python",
   "pygments_lexer": "ipython3",
   "version": "3.9.7"
  }
 },
 "nbformat": 4,
 "nbformat_minor": 5
}
